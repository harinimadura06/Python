{
  "nbformat": 4,
  "nbformat_minor": 0,
  "metadata": {
    "colab": {
      "provenance": [],
      "authorship_tag": "ABX9TyML4dE8l/a8/43mrj1MMJGI",
      "include_colab_link": true
    },
    "kernelspec": {
      "name": "python3",
      "display_name": "Python 3"
    },
    "language_info": {
      "name": "python"
    }
  },
  "cells": [
    {
      "cell_type": "markdown",
      "metadata": {
        "id": "view-in-github",
        "colab_type": "text"
      },
      "source": [
        "<a href=\"https://colab.research.google.com/github/harinimadura06/Python/blob/main/Python.ipynb\" target=\"_parent\"><img src=\"https://colab.research.google.com/assets/colab-badge.svg\" alt=\"Open In Colab\"/></a>"
      ]
    },
    {
      "cell_type": "code",
      "execution_count": 1,
      "metadata": {
        "colab": {
          "base_uri": "https://localhost:8080/"
        },
        "id": "E_5g3bt73y8a",
        "outputId": "57075983-7bf8-4884-cb68-a2d5850b77d0"
      },
      "outputs": [
        {
          "output_type": "stream",
          "name": "stdout",
          "text": [
            "Palindrome\n"
          ]
        }
      ],
      "source": [
        "num = 5445\n",
        "temp = num\n",
        "reverse = 0\n",
        "while temp > 0:\n",
        "  remainder = temp % 10\n",
        "  reverse = (reverse * 10) + remainder\n",
        "  temp = temp // 10\n",
        "if num == reverse:\n",
        "  print(\"Palindrome\")\n",
        "else:\n",
        "  print(\"Not Palindrome\")"
      ]
    },
    {
      "cell_type": "code",
      "source": [
        "num = 10\n",
        "n1, n2 = 0, 1\n",
        "print(\"Fibonacci Series:\", n1, n2, end=\"\")\n",
        "for i in range(2, num):\n",
        "  n3 = n1 + n2\n",
        "  n1 = n2\n",
        "  n2 = n3\n",
        "  print(n3, end=\"\")\n",
        "\n",
        "print()"
      ],
      "metadata": {
        "colab": {
          "base_uri": "https://localhost:8080/"
        },
        "id": "_T3axb8598Dl",
        "outputId": "d0d1c89f-e579-48ec-bb28-bede66d1144a"
      },
      "execution_count": 2,
      "outputs": [
        {
          "output_type": "stream",
          "name": "stdout",
          "text": [
            "Fibonacci Series: 0 112358132134\n"
          ]
        }
      ]
    },
    {
      "cell_type": "code",
      "source": [
        "n = 22\n",
        "if n<=12:\n",
        "  print(\"child\")\n",
        "elif n>=13 and n<=19:\n",
        "  print(\"Teenager\")\n",
        "elif n>=20 and n<=59:\n",
        "  print(\"Adult\")\n",
        "else:\n",
        "  print(\"senior citizen\")"
      ],
      "metadata": {
        "colab": {
          "base_uri": "https://localhost:8080/"
        },
        "id": "4ndKfQ5u-289",
        "outputId": "d09f0c10-ba5e-41fa-8f97-d6637ae5994c"
      },
      "execution_count": 3,
      "outputs": [
        {
          "output_type": "stream",
          "name": "stdout",
          "text": [
            "Adult\n"
          ]
        }
      ]
    },
    {
      "cell_type": "code",
      "source": [
        "n = 2005\n",
        "if n%4==0 and n%100!=0 or n%400==0:\n",
        "  print(\"Leap year\")\n",
        "else:\n",
        "  print(\"not a leap year\")"
      ],
      "metadata": {
        "colab": {
          "base_uri": "https://localhost:8080/"
        },
        "id": "U7G1JF-j_aw9",
        "outputId": "be783a55-7ae8-4017-f286-54cc4b263f82"
      },
      "execution_count": 4,
      "outputs": [
        {
          "output_type": "stream",
          "name": "stdout",
          "text": [
            "not a leap year\n"
          ]
        }
      ]
    },
    {
      "cell_type": "code",
      "source": [],
      "metadata": {
        "id": "867tvB2x-pTd"
      },
      "execution_count": null,
      "outputs": []
    }
  ]
}