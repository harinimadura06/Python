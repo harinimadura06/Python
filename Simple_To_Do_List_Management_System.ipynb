{
  "nbformat": 4,
  "nbformat_minor": 0,
  "metadata": {
    "colab": {
      "provenance": [],
      "authorship_tag": "ABX9TyPGCPmVLuAXl1LOBuNtW+kd",
      "include_colab_link": true
    },
    "kernelspec": {
      "name": "python3",
      "display_name": "Python 3"
    },
    "language_info": {
      "name": "python"
    }
  },
  "cells": [
    {
      "cell_type": "markdown",
      "metadata": {
        "id": "view-in-github",
        "colab_type": "text"
      },
      "source": [
        "<a href=\"https://colab.research.google.com/github/harinimadura06/Python/blob/main/Simple_To_Do_List_Management_System.ipynb\" target=\"_parent\"><img src=\"https://colab.research.google.com/assets/colab-badge.svg\" alt=\"Open In Colab\"/></a>"
      ]
    },
    {
      "cell_type": "code",
      "execution_count": 3,
      "metadata": {
        "colab": {
          "base_uri": "https://localhost:8080/"
        },
        "id": "DWcOL9e_BEOP",
        "outputId": "60777098-e1ce-4725-e188-7eeab318d902"
      },
      "outputs": [
        {
          "output_type": "stream",
          "name": "stdout",
          "text": [
            "\n",
            "1. Add Task  2. Remove Task  3. View Tasks  4. Exit\n",
            "Choose: 1\n",
            "Enter task: Finish Project Report\n",
            "Task added.\n",
            "\n",
            "1. Add Task  2. Remove Task  3. View Tasks  4. Exit\n",
            "Choose: 3\n",
            "\n",
            "Tasks:\n",
            "1. Finish Project Report\n",
            "\n",
            "1. Add Task  2. Remove Task  3. View Tasks  4. Exit\n",
            "Choose: 2\n",
            "\n",
            "Tasks:\n",
            "1. Finish Project Report\n",
            "Enter task number to remove: 1\n",
            "Task 'Finish Project Report' removed.\n",
            "\n",
            "1. Add Task  2. Remove Task  3. View Tasks  4. Exit\n",
            "Choose: 4\n",
            "Goodbye!\n"
          ]
        }
      ],
      "source": [
        "# Simple To-Do List Management System\n",
        "\n",
        "def display_tasks(tasks):\n",
        "  if tasks:\n",
        "        print(\"\\nTasks:\")\n",
        "        for i, task in enumerate(tasks, 1):\n",
        "            print(f\"{i}. {task}\")\n",
        "  else:\n",
        "        print(\"No tasks available.\")\n",
        "\n",
        "tasks = []\n",
        "while True:\n",
        "    choice = input(\"\\n1. Add Task  2. Remove Task  3. View Tasks  4. Exit\\nChoose: \")\n",
        "    if choice == \"1\":\n",
        "        task = input(\"Enter task: \").strip()\n",
        "        if task and task not in tasks:\n",
        "            tasks.append(task)\n",
        "            print(\"Task added.\")\n",
        "        else:\n",
        "          print(\"Invalid or Duplicate Task.\")\n",
        "\n",
        "    elif choice == \"2\":\n",
        "        display_tasks(tasks)\n",
        "        try:\n",
        "            index = int(input(\"Enter task number to remove: \")) - 1\n",
        "            print(f\"Task '{tasks.pop(index)}' removed.\")\n",
        "        except (ValueError, IndexError):\n",
        "            print(\"Invalid task number.\")\n",
        "\n",
        "    elif choice == \"3\":\n",
        "        display_tasks(tasks)\n",
        "\n",
        "    elif choice == \"4\":\n",
        "        print(\"Goodbye!\")\n",
        "        break\n",
        "\n",
        "    else:\n",
        "        print(\"Invalid choice. Please try again.\")\n",
        "\n",
        "\n",
        "\n"
      ]
    }
  ]
}